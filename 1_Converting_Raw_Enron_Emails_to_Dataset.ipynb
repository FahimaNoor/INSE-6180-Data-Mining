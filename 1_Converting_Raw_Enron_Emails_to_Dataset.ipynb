{
  "nbformat": 4,
  "nbformat_minor": 0,
  "metadata": {
    "colab": {
      "provenance": []
    },
    "kernelspec": {
      "name": "python3",
      "display_name": "Python 3"
    },
    "language_info": {
      "name": "python"
    }
  },
  "cells": [
    {
      "cell_type": "code",
      "execution_count": null,
      "metadata": {
        "id": "0CJDZ8PcQ_5A"
      },
      "outputs": [],
      "source": [
        "!pip install xlsxwriter\n",
        "!pip install plotly_express"
      ]
    },
    {
      "cell_type": "code",
      "source": [
        "import pandas as pd\n",
        "import numpy as np\n",
        "import matplotlib.pyplot as plt\n",
        "import seaborn as sns\n",
        "import nltk\n",
        "import os\n",
        "from wordcloud import WordCloud\n",
        "from os import walk\n",
        "from string import punctuation\n",
        "from random import shuffle\n",
        "from collections import Counter\n",
        "import multiprocessing\n",
        "import email\n",
        "from google.colab import files\n",
        "\n",
        "\n",
        "\n",
        "import sklearn as sk\n",
        "\n",
        "from nltk.corpus import stopwords\n",
        "nltk.download('stopwords')\n",
        "nltk.download('wordnet')\n",
        "nltk.download('punkt')\n",
        "nltk.download('omw-1.4')\n",
        "nltk.download('averaged_perceptron_tagger')\n",
        "%matplotlib inline"
      ],
      "metadata": {
        "id": "F4Fg0jfvRHdJ"
      },
      "execution_count": null,
      "outputs": []
    },
    {
      "cell_type": "code",
      "source": [
        "!unzip enron_dataset.zip   #Raw ERON Dataset"
      ],
      "metadata": {
        "id": "dNFZlnMzRILS"
      },
      "execution_count": null,
      "outputs": []
    },
    {
      "cell_type": "code",
      "source": [
        "import os\n",
        "for (root,dirs,files) in os.walk('enron_dataset', topdown=True):\n",
        "  print (root)\n",
        "  print (dirs)\n",
        "  print (files)\n",
        "  print ('--------------------------------')"
      ],
      "metadata": {
        "id": "tanvSmWWRLTu"
      },
      "execution_count": null,
      "outputs": []
    },
    {
      "cell_type": "code",
      "source": [
        "# Read the whole data from the Enron Dataset into a variable allData.\n",
        "\n",
        "pathwalk = walk(r\"enron_dataset\")\n",
        "\n",
        "allHamData, allSpamData = [], []\n",
        "for root, dr, file in pathwalk:\n",
        "    if 'ham' in str(file):\n",
        "        for obj in file:\n",
        "            with open(root + '/' + obj, encoding='latin1') as ip:\n",
        "                allHamData.append(\" \".join(ip.readlines()))\n",
        "\n",
        "    elif 'spam' in str(file):\n",
        "        for obj in file:\n",
        "            with open(root + '/' + obj, encoding='latin1') as ip:\n",
        "                allSpamData.append(\" \".join(ip.readlines()))"
      ],
      "metadata": {
        "id": "_oVEU3uwRWIz"
      },
      "execution_count": null,
      "outputs": []
    },
    {
      "cell_type": "code",
      "source": [
        "# remove all redundent data\n",
        "\n",
        "allHamData = list(set(allHamData))\n",
        "allSpamData = list(set(allSpamData))"
      ],
      "metadata": {
        "id": "lM2X4G7SRYMQ"
      },
      "execution_count": null,
      "outputs": []
    },
    {
      "cell_type": "code",
      "source": [
        "len(allSpamData) #14583"
      ],
      "metadata": {
        "id": "4lXTHpwYRY7O"
      },
      "execution_count": null,
      "outputs": []
    },
    {
      "cell_type": "code",
      "source": [
        "allSpamData[51]"
      ],
      "metadata": {
        "id": "llMOI1uXRbP0"
      },
      "execution_count": null,
      "outputs": []
    },
    {
      "cell_type": "code",
      "source": [
        "# storing it all in a dataframe\n",
        "hamPlusSpamData = allHamData + allSpamData\n",
        "labels = [\"ham\"]*len(allHamData) + [\"spam\"]*len(allSpamData)\n",
        "\n",
        "raw_df = pd.DataFrame({\"email\": hamPlusSpamData,\n",
        "                       \"label\": labels})"
      ],
      "metadata": {
        "id": "OUQ1hcOhRdMz"
      },
      "execution_count": null,
      "outputs": []
    },
    {
      "cell_type": "code",
      "source": [
        "raw_df.shape"
      ],
      "metadata": {
        "id": "0qnYARrfRe-P"
      },
      "execution_count": null,
      "outputs": []
    },
    {
      "cell_type": "code",
      "source": [
        "# checking how it looks\n",
        "\n",
        "raw_df.head(5)"
      ],
      "metadata": {
        "id": "HnpDMtj2RhFW"
      },
      "execution_count": null,
      "outputs": []
    },
    {
      "cell_type": "code",
      "source": [
        "text = raw_df['email']\n",
        "text"
      ],
      "metadata": {
        "id": "OI6h7fHBRknM"
      },
      "execution_count": null,
      "outputs": []
    },
    {
      "cell_type": "code",
      "source": [
        "print(raw_df.loc[1]['email'])"
      ],
      "metadata": {
        "id": "W58xPHFvRlJR"
      },
      "execution_count": null,
      "outputs": []
    },
    {
      "cell_type": "code",
      "source": [
        "print(\"\\n\"+'-'*25)\n",
        "print(\"shape of data:\",raw_df.shape)\n",
        "print(\"\\n\"+'-'*25)\n",
        "print(\"\\nno dimensions of data:\",raw_df.ndim)\n",
        "print(\"\\n\"+'-'*25)\n",
        "print(\"\\nsize of data:\",raw_df.size)\n",
        "print(\"\\n\"+'-'*25)\n",
        "print(\"\\nSum fo all null values:\\n\",raw_df.isnull().sum())\n",
        "print(\"\\n\"+'-'*25)"
      ],
      "metadata": {
        "id": "AcknU58eRnHD"
      },
      "execution_count": null,
      "outputs": []
    },
    {
      "cell_type": "code",
      "source": [
        "print(\"Column Names : \\n\"+'-'*25)\n",
        "print(raw_df.columns)"
      ],
      "metadata": {
        "id": "EaPzKm6PRpKB"
      },
      "execution_count": null,
      "outputs": []
    },
    {
      "cell_type": "code",
      "source": [
        "raw_df.info()"
      ],
      "metadata": {
        "id": "_JLtsUrxRrAg"
      },
      "execution_count": null,
      "outputs": []
    },
    {
      "cell_type": "code",
      "source": [
        "print(\"Count of label:\\n\",raw_df['label'].value_counts())\n"
      ],
      "metadata": {
        "id": "Vo4QWWvqRs1Z"
      },
      "execution_count": null,
      "outputs": []
    },
    {
      "cell_type": "code",
      "source": [
        "raw_df['length'] = raw_df.email.str.len()\n",
        "raw_df.head()\n",
        "data=raw_df"
      ],
      "metadata": {
        "id": "dmXdjOb4Ru3F"
      },
      "execution_count": null,
      "outputs": []
    },
    {
      "cell_type": "code",
      "source": [
        "from sklearn.utils import shuffle\n",
        "data = shuffle(data)\n",
        "data"
      ],
      "metadata": {
        "id": "zZBcAMlORw4_"
      },
      "execution_count": null,
      "outputs": []
    },
    {
      "cell_type": "code",
      "source": [
        "data.to_excel('ErnronDataset.xlsx', engine='xlsxwriter')\n",
        "files.download('EnronDataset.xlsx')"
      ],
      "metadata": {
        "id": "aXK5ntUVR27X"
      },
      "execution_count": null,
      "outputs": []
    }
  ]
}